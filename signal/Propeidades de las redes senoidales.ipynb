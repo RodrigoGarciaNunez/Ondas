{
 "cells": [
  {
   "cell_type": "markdown",
   "metadata": {},
   "source": [
    "# Propiedades de las señales senoidales\n",
    "\n"
   ]
  },
  {
   "cell_type": "markdown",
   "metadata": {},
   "source": [
    "Las ondas senoidales son patrones de ondas que matemáticamente pueden ser descritas mediante las funciones seno y coseno.\n",
    "La matemática de las ondas senoidales o sinusoidales, como también se las conoce, es la de las funciones seno y coseno.\n",
    "\n",
    "Se trata de funciones repetitivas, lo que significa periodicidad. Ambas tienen idéntica forma, con la salvedad de que el coseno está desplazado hacia la izquierda respecto al seno en un cuarto de ciclo. Una onda senoidal cuenta con perido, amplitud, frecuencia y fase.\n",
    "\n",
    "La forma más general para poder representar una onda senoidal es<br>\n",
    "*v(t) = vm sen (ωt+φ)*<br>\n",
    "En donde *v(t)* es el valor de la función evaluada en un tiempo t, *vm* es el valor máximo de la función, **\n",
    "\n",
    "## Periodo\n",
    "\n",
    "El periodo de la función de una onda senoidal debe cumplir con la propiedad <br>\n",
    "        *f (t) = f (t+ T) = f (t + 2T) = f (t + 3T)...* <br>\n",
    "Esta propiedad inidca que para un tiempo *t* y un tiempo *T* llamado *periodo de la onda*, el valor de la función evaluada en *t* será siempre igual al valor de la función evaluada en cualquier multiplo de *T*. De este modo se cumple la periodicidad de una onda senoidal.\n",
    "\n",
    "[![Periodo ](https://www.partesdel.com/wp-content/uploads/Periodo-640x323.jpg)\n",
    "\n",
    "\n",
    "## Amplitud\n",
    "\n",
    "De acuerdo a la expresión general de la onda senoidal *v(t) = vm sen (ωt+φ)*, *vm* es el valor máximo de la función, que ocurre cuando *sen(ωt+φ)= 1* (recordando que el mayor valor que admite tanto la función seno como la función coseno es 1). Este valor máximo es la amplitud de onda.\n",
    "\n",
    "## Ciclo\n",
    "\n",
    "Es una parte de la onda contenida en un período. Obsérvese en la siguiente figura como un ciclo abarca desde un punto hasta otro con el mismo valor (altura) y la misma pendiente (inclinación).\n",
    "\n",
    "[![Ciclo ](https://www.lifeder.com/wp-content/uploads/2019/08/ondas-senoidales-3.jpg)\n",
    "\n",
    "## Frecuencia\n",
    "\n",
    "Es la cantidad de ciclos que ocurren en 1 segundo y se encuentra vinculada al argumento de la función seno de la forma general: *ωt*. La frecuencia se denota como f y se mide en ciclos por segundo o Hertz (Hz) en Sistema Internacional.\n",
    "La frecuancia, al ser lo opuesto del periodo, puede ser representada con la formula *f=1/T*, siendo T el periodo de la onda.\n",
    "Esta frecuencia *f* está relacinada con la *frecuencia angular* o *pulsasión* denotada con *ω*.\n",
    "La frecuancia angular es el angulo recorrido durante el giro en la unidad de tiempo, medido en la medida del arco: <br>\n",
    "*ω = 2πf*<br>\n",
    "\n",
    "\n"
   ]
  },
  {
   "cell_type": "code",
   "execution_count": null,
   "metadata": {},
   "outputs": [],
   "source": []
  }
 ],
 "metadata": {
  "kernelspec": {
   "display_name": "Python 3.11.0 64-bit",
   "language": "python",
   "name": "python3"
  },
  "language_info": {
   "codemirror_mode": {
    "name": "ipython",
    "version": 3
   },
   "file_extension": ".py",
   "mimetype": "text/x-python",
   "name": "python",
   "nbconvert_exporter": "python",
   "pygments_lexer": "ipython3",
   "version": "3.11.0"
  },
  "orig_nbformat": 4,
  "vscode": {
   "interpreter": {
    "hash": "e2de187e2ac018b1966125b89a9965710f2e135e980700bc64d2907d990fa000"
   }
  }
 },
 "nbformat": 4,
 "nbformat_minor": 2
}
